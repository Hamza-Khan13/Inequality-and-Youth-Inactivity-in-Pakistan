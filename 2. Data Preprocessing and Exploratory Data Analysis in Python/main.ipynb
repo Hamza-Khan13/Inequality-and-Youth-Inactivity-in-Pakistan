{
 "cells": [
  {
   "cell_type": "code",
   "execution_count": 1,
   "metadata": {},
   "outputs": [],
   "source": [
    "#libraries\n",
    "import pandas as pd\n",
    "import matplotlib.pyplot as plt\n",
    "\n",
    "%matplotlib inline"
   ]
  },
  {
   "cell_type": "code",
   "execution_count": 2,
   "metadata": {},
   "outputs": [],
   "source": [
    "#importing data \n",
    "df = pd.read_excel(\"data.xlsx\")"
   ]
  },
  {
   "cell_type": "code",
   "execution_count": 3,
   "metadata": {},
   "outputs": [
    {
     "data": {
      "text/html": [
       "<div>\n",
       "<style scoped>\n",
       "    .dataframe tbody tr th:only-of-type {\n",
       "        vertical-align: middle;\n",
       "    }\n",
       "\n",
       "    .dataframe tbody tr th {\n",
       "        vertical-align: top;\n",
       "    }\n",
       "\n",
       "    .dataframe thead th {\n",
       "        text-align: right;\n",
       "    }\n",
       "</style>\n",
       "<table border=\"1\" class=\"dataframe\">\n",
       "  <thead>\n",
       "    <tr style=\"text-align: right;\">\n",
       "      <th></th>\n",
       "      <th>PrCode</th>\n",
       "      <th>RespSex</th>\n",
       "      <th>Age</th>\n",
       "      <th>Education</th>\n",
       "      <th>Current_Enrollment</th>\n",
       "      <th>Employment_Status</th>\n",
       "      <th>Work_done</th>\n",
       "      <th>Weight</th>\n",
       "    </tr>\n",
       "  </thead>\n",
       "  <tbody>\n",
       "    <tr>\n",
       "      <th>0</th>\n",
       "      <td>6111400815</td>\n",
       "      <td>2</td>\n",
       "      <td>42</td>\n",
       "      <td>12</td>\n",
       "      <td>1</td>\n",
       "      <td>1</td>\n",
       "      <td>1</td>\n",
       "      <td>1487</td>\n",
       "    </tr>\n",
       "    <tr>\n",
       "      <th>1</th>\n",
       "      <td>6111400815</td>\n",
       "      <td>2</td>\n",
       "      <td>39</td>\n",
       "      <td>5</td>\n",
       "      <td>1</td>\n",
       "      <td>3</td>\n",
       "      <td>2</td>\n",
       "      <td>1487</td>\n",
       "    </tr>\n",
       "    <tr>\n",
       "      <th>2</th>\n",
       "      <td>6111400815</td>\n",
       "      <td>2</td>\n",
       "      <td>17</td>\n",
       "      <td>6</td>\n",
       "      <td>7</td>\n",
       "      <td>3</td>\n",
       "      <td>2</td>\n",
       "      <td>1487</td>\n",
       "    </tr>\n",
       "    <tr>\n",
       "      <th>3</th>\n",
       "      <td>6111400815</td>\n",
       "      <td>2</td>\n",
       "      <td>15</td>\n",
       "      <td>5</td>\n",
       "      <td>6</td>\n",
       "      <td>3</td>\n",
       "      <td>2</td>\n",
       "      <td>1487</td>\n",
       "    </tr>\n",
       "    <tr>\n",
       "      <th>4</th>\n",
       "      <td>6111400815</td>\n",
       "      <td>2</td>\n",
       "      <td>12</td>\n",
       "      <td>4</td>\n",
       "      <td>5</td>\n",
       "      <td>3</td>\n",
       "      <td>2</td>\n",
       "      <td>1487</td>\n",
       "    </tr>\n",
       "  </tbody>\n",
       "</table>\n",
       "</div>"
      ],
      "text/plain": [
       "       PrCode  RespSex  Age  Education  Current_Enrollment  Employment_Status  \\\n",
       "0  6111400815        2   42         12                   1                  1   \n",
       "1  6111400815        2   39          5                   1                  3   \n",
       "2  6111400815        2   17          6                   7                  3   \n",
       "3  6111400815        2   15          5                   6                  3   \n",
       "4  6111400815        2   12          4                   5                  3   \n",
       "\n",
       "   Work_done  Weight  \n",
       "0          1    1487  \n",
       "1          2    1487  \n",
       "2          2    1487  \n",
       "3          2    1487  \n",
       "4          2    1487  "
      ]
     },
     "execution_count": 3,
     "metadata": {},
     "output_type": "execute_result"
    }
   ],
   "source": [
    "df.head()"
   ]
  },
  {
   "attachments": {},
   "cell_type": "markdown",
   "metadata": {},
   "source": [
    "# 1. ETL"
   ]
  },
  {
   "cell_type": "code",
   "execution_count": 4,
   "metadata": {},
   "outputs": [
    {
     "name": "stdout",
     "output_type": "stream",
     "text": [
      "(180635, 10)\n"
     ]
    }
   ],
   "source": [
    "df['Province'] = df['PrCode'].astype(str).str[0].astype(int)\n",
    "\n",
    "df['Location_type'] = df['PrCode'].astype(str).str[3].astype(int)\n",
    "\n",
    "print(df.shape)"
   ]
  },
  {
   "cell_type": "code",
   "execution_count": 5,
   "metadata": {},
   "outputs": [
    {
     "data": {
      "text/html": [
       "<div>\n",
       "<style scoped>\n",
       "    .dataframe tbody tr th:only-of-type {\n",
       "        vertical-align: middle;\n",
       "    }\n",
       "\n",
       "    .dataframe tbody tr th {\n",
       "        vertical-align: top;\n",
       "    }\n",
       "\n",
       "    .dataframe thead th {\n",
       "        text-align: right;\n",
       "    }\n",
       "</style>\n",
       "<table border=\"1\" class=\"dataframe\">\n",
       "  <thead>\n",
       "    <tr style=\"text-align: right;\">\n",
       "      <th></th>\n",
       "      <th>PrCode</th>\n",
       "      <th>RespSex</th>\n",
       "      <th>Age</th>\n",
       "      <th>Education</th>\n",
       "      <th>Current_Enrollment</th>\n",
       "      <th>Employment_Status</th>\n",
       "      <th>Work_done</th>\n",
       "      <th>Weight</th>\n",
       "      <th>Province</th>\n",
       "      <th>Location_type</th>\n",
       "    </tr>\n",
       "  </thead>\n",
       "  <tbody>\n",
       "    <tr>\n",
       "      <th>0</th>\n",
       "      <td>6111400815</td>\n",
       "      <td>2</td>\n",
       "      <td>42</td>\n",
       "      <td>12</td>\n",
       "      <td>1</td>\n",
       "      <td>1</td>\n",
       "      <td>1</td>\n",
       "      <td>1487</td>\n",
       "      <td>6</td>\n",
       "      <td>1</td>\n",
       "    </tr>\n",
       "    <tr>\n",
       "      <th>1</th>\n",
       "      <td>6111400815</td>\n",
       "      <td>2</td>\n",
       "      <td>39</td>\n",
       "      <td>5</td>\n",
       "      <td>1</td>\n",
       "      <td>3</td>\n",
       "      <td>2</td>\n",
       "      <td>1487</td>\n",
       "      <td>6</td>\n",
       "      <td>1</td>\n",
       "    </tr>\n",
       "    <tr>\n",
       "      <th>2</th>\n",
       "      <td>6111400815</td>\n",
       "      <td>2</td>\n",
       "      <td>17</td>\n",
       "      <td>6</td>\n",
       "      <td>7</td>\n",
       "      <td>3</td>\n",
       "      <td>2</td>\n",
       "      <td>1487</td>\n",
       "      <td>6</td>\n",
       "      <td>1</td>\n",
       "    </tr>\n",
       "    <tr>\n",
       "      <th>3</th>\n",
       "      <td>6111400815</td>\n",
       "      <td>2</td>\n",
       "      <td>15</td>\n",
       "      <td>5</td>\n",
       "      <td>6</td>\n",
       "      <td>3</td>\n",
       "      <td>2</td>\n",
       "      <td>1487</td>\n",
       "      <td>6</td>\n",
       "      <td>1</td>\n",
       "    </tr>\n",
       "    <tr>\n",
       "      <th>4</th>\n",
       "      <td>6111400815</td>\n",
       "      <td>2</td>\n",
       "      <td>12</td>\n",
       "      <td>4</td>\n",
       "      <td>5</td>\n",
       "      <td>3</td>\n",
       "      <td>2</td>\n",
       "      <td>1487</td>\n",
       "      <td>6</td>\n",
       "      <td>1</td>\n",
       "    </tr>\n",
       "  </tbody>\n",
       "</table>\n",
       "</div>"
      ],
      "text/plain": [
       "       PrCode  RespSex  Age  Education  Current_Enrollment  Employment_Status  \\\n",
       "0  6111400815        2   42         12                   1                  1   \n",
       "1  6111400815        2   39          5                   1                  3   \n",
       "2  6111400815        2   17          6                   7                  3   \n",
       "3  6111400815        2   15          5                   6                  3   \n",
       "4  6111400815        2   12          4                   5                  3   \n",
       "\n",
       "   Work_done  Weight  Province  Location_type  \n",
       "0          1    1487         6              1  \n",
       "1          2    1487         6              1  \n",
       "2          2    1487         6              1  \n",
       "3          2    1487         6              1  \n",
       "4          2    1487         6              1  "
      ]
     },
     "execution_count": 5,
     "metadata": {},
     "output_type": "execute_result"
    }
   ],
   "source": [
    "df.head()"
   ]
  },
  {
   "cell_type": "code",
   "execution_count": 6,
   "metadata": {},
   "outputs": [
    {
     "data": {
      "text/plain": [
       "1    133864\n",
       "2     46771\n",
       "Name: RespSex, dtype: int64"
      ]
     },
     "execution_count": 6,
     "metadata": {},
     "output_type": "execute_result"
    }
   ],
   "source": [
    "df.RespSex.value_counts()"
   ]
  },
  {
   "cell_type": "code",
   "execution_count": 7,
   "metadata": {},
   "outputs": [
    {
     "data": {
      "text/plain": [
       "2    81750\n",
       "3    42130\n",
       "1    33403\n",
       "4    21994\n",
       "6     1358\n",
       "Name: Province, dtype: int64"
      ]
     },
     "execution_count": 7,
     "metadata": {},
     "output_type": "execute_result"
    }
   ],
   "source": [
    "df.Province.value_counts()"
   ]
  },
  {
   "attachments": {},
   "cell_type": "markdown",
   "metadata": {},
   "source": [
    "## 1.1 Youth Dataframe"
   ]
  },
  {
   "cell_type": "code",
   "execution_count": 8,
   "metadata": {},
   "outputs": [],
   "source": [
    "#Youth df\n",
    "\n",
    "youth_df = df[(df['Age'] >= 15) & (df['Age'] <= 24)]"
   ]
  },
  {
   "cell_type": "code",
   "execution_count": 9,
   "metadata": {},
   "outputs": [
    {
     "name": "stdout",
     "output_type": "stream",
     "text": [
      "(48383, 10)\n"
     ]
    }
   ],
   "source": [
    "print(youth_df.shape)"
   ]
  },
  {
   "cell_type": "code",
   "execution_count": 10,
   "metadata": {},
   "outputs": [
    {
     "name": "stderr",
     "output_type": "stream",
     "text": [
      "C:\\Users\\Humza\\AppData\\Local\\Temp\\ipykernel_10968\\688383885.py:1: SettingWithCopyWarning: \n",
      "A value is trying to be set on a copy of a slice from a DataFrame.\n",
      "Try using .loc[row_indexer,col_indexer] = value instead\n",
      "\n",
      "See the caveats in the documentation: https://pandas.pydata.org/pandas-docs/stable/user_guide/indexing.html#returning-a-view-versus-a-copy\n",
      "  youth_df['Inactive'] = ((youth_df['Current_Enrollment'] == 1) & (youth_df['Employment_Status'] == 3) & (youth_df['Work_done'] ==2)).astype(int)\n"
     ]
    }
   ],
   "source": [
    "youth_df['Inactive'] = ((youth_df['Current_Enrollment'] == 1) & (youth_df['Employment_Status'] == 3) & (youth_df['Work_done'] ==2)).astype(int)"
   ]
  },
  {
   "cell_type": "code",
   "execution_count": 11,
   "metadata": {},
   "outputs": [
    {
     "data": {
      "text/html": [
       "<div>\n",
       "<style scoped>\n",
       "    .dataframe tbody tr th:only-of-type {\n",
       "        vertical-align: middle;\n",
       "    }\n",
       "\n",
       "    .dataframe tbody tr th {\n",
       "        vertical-align: top;\n",
       "    }\n",
       "\n",
       "    .dataframe thead th {\n",
       "        text-align: right;\n",
       "    }\n",
       "</style>\n",
       "<table border=\"1\" class=\"dataframe\">\n",
       "  <thead>\n",
       "    <tr style=\"text-align: right;\">\n",
       "      <th></th>\n",
       "      <th>PrCode</th>\n",
       "      <th>RespSex</th>\n",
       "      <th>Age</th>\n",
       "      <th>Education</th>\n",
       "      <th>Current_Enrollment</th>\n",
       "      <th>Employment_Status</th>\n",
       "      <th>Work_done</th>\n",
       "      <th>Weight</th>\n",
       "      <th>Province</th>\n",
       "      <th>Location_type</th>\n",
       "      <th>Inactive</th>\n",
       "    </tr>\n",
       "  </thead>\n",
       "  <tbody>\n",
       "    <tr>\n",
       "      <th>2</th>\n",
       "      <td>6111400815</td>\n",
       "      <td>2</td>\n",
       "      <td>17</td>\n",
       "      <td>6</td>\n",
       "      <td>7</td>\n",
       "      <td>3</td>\n",
       "      <td>2</td>\n",
       "      <td>1487</td>\n",
       "      <td>6</td>\n",
       "      <td>1</td>\n",
       "      <td>0</td>\n",
       "    </tr>\n",
       "    <tr>\n",
       "      <th>3</th>\n",
       "      <td>6111400815</td>\n",
       "      <td>2</td>\n",
       "      <td>15</td>\n",
       "      <td>5</td>\n",
       "      <td>6</td>\n",
       "      <td>3</td>\n",
       "      <td>2</td>\n",
       "      <td>1487</td>\n",
       "      <td>6</td>\n",
       "      <td>1</td>\n",
       "      <td>0</td>\n",
       "    </tr>\n",
       "    <tr>\n",
       "      <th>11</th>\n",
       "      <td>6111400811</td>\n",
       "      <td>1</td>\n",
       "      <td>22</td>\n",
       "      <td>6</td>\n",
       "      <td>1</td>\n",
       "      <td>1</td>\n",
       "      <td>1</td>\n",
       "      <td>1487</td>\n",
       "      <td>6</td>\n",
       "      <td>1</td>\n",
       "      <td>0</td>\n",
       "    </tr>\n",
       "    <tr>\n",
       "      <th>13</th>\n",
       "      <td>6111400810</td>\n",
       "      <td>1</td>\n",
       "      <td>24</td>\n",
       "      <td>6</td>\n",
       "      <td>1</td>\n",
       "      <td>1</td>\n",
       "      <td>1</td>\n",
       "      <td>1487</td>\n",
       "      <td>6</td>\n",
       "      <td>1</td>\n",
       "      <td>0</td>\n",
       "    </tr>\n",
       "    <tr>\n",
       "      <th>14</th>\n",
       "      <td>6111400810</td>\n",
       "      <td>1</td>\n",
       "      <td>17</td>\n",
       "      <td>6</td>\n",
       "      <td>7</td>\n",
       "      <td>3</td>\n",
       "      <td>2</td>\n",
       "      <td>1487</td>\n",
       "      <td>6</td>\n",
       "      <td>1</td>\n",
       "      <td>0</td>\n",
       "    </tr>\n",
       "  </tbody>\n",
       "</table>\n",
       "</div>"
      ],
      "text/plain": [
       "        PrCode  RespSex  Age  Education  Current_Enrollment  \\\n",
       "2   6111400815        2   17          6                   7   \n",
       "3   6111400815        2   15          5                   6   \n",
       "11  6111400811        1   22          6                   1   \n",
       "13  6111400810        1   24          6                   1   \n",
       "14  6111400810        1   17          6                   7   \n",
       "\n",
       "    Employment_Status  Work_done  Weight  Province  Location_type  Inactive  \n",
       "2                   3          2    1487         6              1         0  \n",
       "3                   3          2    1487         6              1         0  \n",
       "11                  1          1    1487         6              1         0  \n",
       "13                  1          1    1487         6              1         0  \n",
       "14                  3          2    1487         6              1         0  "
      ]
     },
     "execution_count": 11,
     "metadata": {},
     "output_type": "execute_result"
    }
   ],
   "source": [
    "youth_df.head()"
   ]
  },
  {
   "cell_type": "code",
   "execution_count": 13,
   "metadata": {},
   "outputs": [
    {
     "name": "stderr",
     "output_type": "stream",
     "text": [
      "C:\\Users\\Humza\\AppData\\Local\\Temp\\ipykernel_10968\\1282141457.py:1: SettingWithCopyWarning: \n",
      "A value is trying to be set on a copy of a slice from a DataFrame\n",
      "\n",
      "See the caveats in the documentation: https://pandas.pydata.org/pandas-docs/stable/user_guide/indexing.html#returning-a-view-versus-a-copy\n",
      "  youth_df.drop('PrCode', axis=1, inplace=True)\n"
     ]
    }
   ],
   "source": [
    "youth_df.drop('PrCode', axis=1, inplace=True)"
   ]
  },
  {
   "cell_type": "code",
   "execution_count": 14,
   "metadata": {},
   "outputs": [
    {
     "data": {
      "text/plain": [
       "1    36209\n",
       "2    12174\n",
       "Name: RespSex, dtype: int64"
      ]
     },
     "execution_count": 14,
     "metadata": {},
     "output_type": "execute_result"
    }
   ],
   "source": [
    "youth_df.RespSex.value_counts()"
   ]
  },
  {
   "cell_type": "code",
   "execution_count": 17,
   "metadata": {},
   "outputs": [
    {
     "data": {
      "text/html": [
       "<div>\n",
       "<style scoped>\n",
       "    .dataframe tbody tr th:only-of-type {\n",
       "        vertical-align: middle;\n",
       "    }\n",
       "\n",
       "    .dataframe tbody tr th {\n",
       "        vertical-align: top;\n",
       "    }\n",
       "\n",
       "    .dataframe thead th {\n",
       "        text-align: right;\n",
       "    }\n",
       "</style>\n",
       "<table border=\"1\" class=\"dataframe\">\n",
       "  <thead>\n",
       "    <tr style=\"text-align: right;\">\n",
       "      <th>RespSex</th>\n",
       "      <th>Male</th>\n",
       "      <th>Female</th>\n",
       "    </tr>\n",
       "    <tr>\n",
       "      <th>Province</th>\n",
       "      <th></th>\n",
       "      <th></th>\n",
       "    </tr>\n",
       "  </thead>\n",
       "  <tbody>\n",
       "    <tr>\n",
       "      <th>1</th>\n",
       "      <td>7751</td>\n",
       "      <td>2017</td>\n",
       "    </tr>\n",
       "    <tr>\n",
       "      <th>2</th>\n",
       "      <td>13774</td>\n",
       "      <td>8293</td>\n",
       "    </tr>\n",
       "    <tr>\n",
       "      <th>3</th>\n",
       "      <td>9298</td>\n",
       "      <td>1547</td>\n",
       "    </tr>\n",
       "    <tr>\n",
       "      <th>4</th>\n",
       "      <td>5211</td>\n",
       "      <td>172</td>\n",
       "    </tr>\n",
       "    <tr>\n",
       "      <th>6</th>\n",
       "      <td>175</td>\n",
       "      <td>145</td>\n",
       "    </tr>\n",
       "  </tbody>\n",
       "</table>\n",
       "</div>"
      ],
      "text/plain": [
       "RespSex    Male  Female\n",
       "Province               \n",
       "1          7751    2017\n",
       "2         13774    8293\n",
       "3          9298    1547\n",
       "4          5211     172\n",
       "6           175     145"
      ]
     },
     "execution_count": 17,
     "metadata": {},
     "output_type": "execute_result"
    }
   ],
   "source": [
    "counts = youth_df.groupby(['Province', 'RespSex']).size()\n",
    "\n",
    "counts_df = counts.unstack('RespSex')\n",
    "\n",
    "counts_df = counts_df.rename(columns={1: 'Male', 2: 'Female'})\n",
    "\n",
    "counts_df"
   ]
  },
  {
   "cell_type": "code",
   "execution_count": 15,
   "metadata": {},
   "outputs": [
    {
     "data": {
      "text/plain": [
       "1     13700\n",
       "5     10013\n",
       "6      9371\n",
       "4      7139\n",
       "7      4672\n",
       "12     1434\n",
       "3      1395\n",
       "13      380\n",
       "8       108\n",
       "2        77\n",
       "10       46\n",
       "9        23\n",
       "14       13\n",
       "11       11\n",
       "15        1\n",
       "Name: Education, dtype: int64"
      ]
     },
     "execution_count": 15,
     "metadata": {},
     "output_type": "execute_result"
    }
   ],
   "source": [
    "youth_df.Education.value_counts()"
   ]
  },
  {
   "attachments": {},
   "cell_type": "markdown",
   "metadata": {},
   "source": [
    "# 2. Table\n"
   ]
  },
  {
   "attachments": {},
   "cell_type": "markdown",
   "metadata": {},
   "source": [
    "## 2.1 Province Table"
   ]
  },
  {
   "cell_type": "code",
   "execution_count": 13,
   "metadata": {},
   "outputs": [
    {
     "data": {
      "image/png": "[encoded data removed]",
      "text/plain": [
       "<Figure size 640x480 with 1 Axes>"
      ]
     },
     "metadata": {},
     "output_type": "display_data"
    }
   ],
   "source": [
    "# group by province and inactive status, and count the number of responses\n",
    "grouped = youth_df.groupby(['Province', 'Inactive'])['RespSex'].count().unstack()\n",
    "\n",
    "# plot a stacked bar chart\n",
    "grouped.plot(kind='bar', stacked=True, colormap='coolwarm')\n",
    "\n",
    "# add axis labels and title\n",
    "plt.xlabel('Province')\n",
    "plt.ylabel('Count')\n",
    "plt.title('Inactive Responses by Province and Sex')\n",
    "\n",
    "# display the chart\n",
    "plt.show()"
   ]
  },
  {
   "cell_type": "code",
   "execution_count": 14,
   "metadata": {},
   "outputs": [],
   "source": [
    "# Create a dictionary to map province codes to names\n",
    "province_names = {1: 'KPK',\n",
    "                  2: 'Punjab',\n",
    "                  3: 'Sindh',\n",
    "                  4: 'Balochistan',\n",
    "                  6: 'Islamabad'}\n",
    "\n",
    "# Subset the dataframe to include only relevant columns and rows\n",
    "subset_df = youth_df[['Province', 'Employment_Status', 'Current_Enrollment', 'Inactive']].copy()\n",
    "subset_df = subset_df[subset_df['Province'].isin(province_names.keys())]\n",
    "\n",
    "# Map province codes to province names\n",
    "subset_df['Province'] = subset_df['Province'].map(province_names)\n",
    "\n",
    "# Calculate the required values for each province\n",
    "unemployed = subset_df[subset_df['Employment_Status'] == 2].groupby('Province').size().reset_index(name='Unemployed')\n",
    "employed = subset_df[subset_df['Employment_Status'] == 1].groupby('Province').size().reset_index(name='Employed')\n",
    "students = subset_df[subset_df['Current_Enrollment'] != 1].groupby('Province').size().reset_index(name='Students')\n",
    "inactive = subset_df[subset_df['Inactive'] == 1].groupby('Province').size().reset_index(name='Inactive')\n",
    "\n",
    "# Merge the results into a single dataframe\n",
    "province_df = pd.merge(unemployed, employed, on='Province', how='outer')\n",
    "province_df = pd.merge(province_df, students, on='Province', how='outer')\n",
    "province_df = pd.merge(province_df, inactive, on='Province', how='outer')\n",
    "\n",
    "\n",
    "# Calculate the total\n",
    "province_df['Total'] = province_df['Unemployed'] + province_df['Employed'] + province_df['Students'] + province_df['Inactive']\n",
    "\n",
    "# Calculate the percentage for each category\n",
    "province_df['Unemployed(%)'] = round(province_df['Unemployed'] / province_df['Total'] * 100 ,1)\n",
    "province_df['Employed(%)'] = round(province_df['Employed'] / province_df['Total'] * 100 ,1)\n",
    "province_df['Students(%)'] = round(province_df['Students'] / province_df['Total'] * 100 ,1)\n",
    "province_df['Inactive(%)'] = round(province_df['Inactive'] / province_df['Total'] * 100 ,1)\n",
    "\n",
    "#Display Table\n",
    "province_df\n",
    "\n",
    "#Saving table\n",
    "#province_df.to_excel('Inactive Youth by province.xlsx', index =False)"
   ]
  },
  {
   "cell_type": "code",
   "execution_count": 15,
   "metadata": {},
   "outputs": [
    {
     "data": {
      "image/png": "[encoded data removed]",
      "text/plain": [
       "<Figure size 800x600 with 1 Axes>"
      ]
     },
     "metadata": {},
     "output_type": "display_data"
    }
   ],
   "source": [
    "# Define the color scheme\n",
    "colors = ['#ffa600', '#ff6361', '#bc5090', '#58508d']\n",
    "\n",
    "# Create a stacked bar plot\n",
    "fig, ax = plt.subplots(figsize=(8, 6))\n",
    "province_df[['Unemployed(%)', 'Employed(%)', 'Students(%)', 'Inactive(%)']].plot(kind='bar', stacked=True, color=colors, ax=ax)\n",
    "\n",
    "# Set the title and axis labels\n",
    "ax.set_title('Youth Employment Status by Province')\n",
    "ax.set_xlabel('Province')\n",
    "ax.set_ylabel('People (%)')\n",
    "\n",
    "# Set the x-axis labels to the Province names from the Province column\n",
    "ax.set_xticklabels(province_df['Province'])\n",
    "\n",
    "# Add text labels for each bar segment\n",
    "for i, row in province_df.iterrows():\n",
    "    for j, value in enumerate(row[['Unemployed(%)', 'Employed(%)', 'Students(%)', 'Inactive(%)']]):\n",
    "        ax.text(i, sum(row[['Unemployed(%)', 'Employed(%)', 'Students(%)', 'Inactive(%)']][:j+1])-value/2, str(value), color='white', fontsize=10, ha='center', va='center')\n",
    "\n",
    "# Move the legend outside the plot area and adjust its position\n",
    "ax.legend(bbox_to_anchor=(1.05, 1), loc='upper left')\n",
    "\n",
    "# Show the plot\n",
    "plt.show()\n",
    "\n",
    "fig.savefig('Youth Employment Status.png', dpi=600, bbox_inches='tight')\n"
   ]
  },
  {
   "attachments": {},
   "cell_type": "markdown",
   "metadata": {},
   "source": [
    "## 2.2 Distribution of inactive youth by sex and by area of residence."
   ]
  },
  {
   "cell_type": "code",
   "execution_count": 23,
   "metadata": {},
   "outputs": [
    {
     "data": {
      "text/html": [
       "<div>\n",
       "<style scoped>\n",
       "    .dataframe tbody tr th:only-of-type {\n",
       "        vertical-align: middle;\n",
       "    }\n",
       "\n",
       "    .dataframe tbody tr th {\n",
       "        vertical-align: top;\n",
       "    }\n",
       "\n",
       "    .dataframe thead th {\n",
       "        text-align: right;\n",
       "    }\n",
       "</style>\n",
       "<table border=\"1\" class=\"dataframe\">\n",
       "  <thead>\n",
       "    <tr style=\"text-align: right;\">\n",
       "      <th></th>\n",
       "      <th>Province</th>\n",
       "      <th>Male</th>\n",
       "      <th>Female</th>\n",
       "      <th>Rural</th>\n",
       "      <th>Urban</th>\n",
       "      <th>Male(%)</th>\n",
       "      <th>Female(%)</th>\n",
       "      <th>Rural(%)</th>\n",
       "      <th>Urban(%)</th>\n",
       "    </tr>\n",
       "  </thead>\n",
       "  <tbody>\n",
       "    <tr>\n",
       "      <th>0</th>\n",
       "      <td>Balochistan</td>\n",
       "      <td>949</td>\n",
       "      <td>38</td>\n",
       "      <td>533</td>\n",
       "      <td>454</td>\n",
       "      <td>96.1</td>\n",
       "      <td>3.9</td>\n",
       "      <td>54.0</td>\n",
       "      <td>46.0</td>\n",
       "    </tr>\n",
       "    <tr>\n",
       "      <th>1</th>\n",
       "      <td>Islamabad</td>\n",
       "      <td>38</td>\n",
       "      <td>27</td>\n",
       "      <td>21</td>\n",
       "      <td>44</td>\n",
       "      <td>58.5</td>\n",
       "      <td>41.5</td>\n",
       "      <td>32.3</td>\n",
       "      <td>67.7</td>\n",
       "    </tr>\n",
       "    <tr>\n",
       "      <th>2</th>\n",
       "      <td>KPK</td>\n",
       "      <td>2689</td>\n",
       "      <td>732</td>\n",
       "      <td>2119</td>\n",
       "      <td>1302</td>\n",
       "      <td>78.6</td>\n",
       "      <td>21.4</td>\n",
       "      <td>61.9</td>\n",
       "      <td>38.1</td>\n",
       "    </tr>\n",
       "    <tr>\n",
       "      <th>3</th>\n",
       "      <td>Punjab</td>\n",
       "      <td>3474</td>\n",
       "      <td>2384</td>\n",
       "      <td>3718</td>\n",
       "      <td>2140</td>\n",
       "      <td>59.3</td>\n",
       "      <td>40.7</td>\n",
       "      <td>63.5</td>\n",
       "      <td>36.5</td>\n",
       "    </tr>\n",
       "    <tr>\n",
       "      <th>4</th>\n",
       "      <td>Sindh</td>\n",
       "      <td>2756</td>\n",
       "      <td>427</td>\n",
       "      <td>2587</td>\n",
       "      <td>596</td>\n",
       "      <td>86.6</td>\n",
       "      <td>13.4</td>\n",
       "      <td>81.3</td>\n",
       "      <td>18.7</td>\n",
       "    </tr>\n",
       "  </tbody>\n",
       "</table>\n",
       "</div>"
      ],
      "text/plain": [
       "      Province  Male  Female  Rural  Urban  Male(%)  Female(%)  Rural(%)  \\\n",
       "0  Balochistan   949      38    533    454     96.1        3.9      54.0   \n",
       "1    Islamabad    38      27     21     44     58.5       41.5      32.3   \n",
       "2          KPK  2689     732   2119   1302     78.6       21.4      61.9   \n",
       "3       Punjab  3474    2384   3718   2140     59.3       40.7      63.5   \n",
       "4        Sindh  2756     427   2587    596     86.6       13.4      81.3   \n",
       "\n",
       "   Urban(%)  \n",
       "0      46.0  \n",
       "1      67.7  \n",
       "2      38.1  \n",
       "3      36.5  \n",
       "4      18.7  "
      ]
     },
     "execution_count": 23,
     "metadata": {},
     "output_type": "execute_result"
    }
   ],
   "source": [
    "# Subset the dataframe to include only relevant columns and rows\n",
    "loc_df = youth_df[['Province', 'RespSex', 'Age', 'Location_type', 'Inactive']].copy()\n",
    "\n",
    "loc_df = loc_df[loc_df['Inactive'] == 1]\n",
    "\n",
    "loc_df = loc_df[loc_df['Province'].isin(province_names.keys())]\n",
    "\n",
    "#Mapping\n",
    "loc_df['Province'] = loc_df['Province'].map(province_names)\n",
    "\n",
    "# Calculate the required values for each province\n",
    "male = loc_df[loc_df['RespSex'] == 1].groupby('Province').size().reset_index(name= 'Male')\n",
    "female = loc_df[loc_df['RespSex'] == 2].groupby(\"Province\").size().reset_index(name= 'Female')\n",
    "\n",
    "rural = loc_df[loc_df['Location_type'] == 1].groupby(\"Province\").size().reset_index(name= 'Rural')\n",
    "urban = loc_df[loc_df['Location_type'] == 2].groupby(\"Province\").size().reset_index(name= 'Urban')\n",
    "\n",
    "# Merge the results into a single dataframe\n",
    "sr_df = pd.merge(male, female, on='Province', how ='outer')\n",
    "sr_df = pd.merge(sr_df, rural, on='Province', how ='outer')\n",
    "sr_df = pd.merge(sr_df, urban, on='Province', how ='outer')\n",
    "\n",
    "# Calculate the percentage for each category\n",
    "sr_df['Male(%)'] = round(sr_df['Male']/(sr_df['Male'] +(sr_df['Female'])) * 100 ,1)\n",
    "sr_df['Female(%)'] = round(sr_df['Female']/(sr_df['Male'] +(sr_df['Female'])) * 100 ,1)\n",
    "\n",
    "sr_df['Rural(%)'] = round(sr_df['Rural']/(sr_df['Rural'] +(sr_df['Urban'])) * 100 ,1)\n",
    "sr_df['Urban(%)'] = round(sr_df['Urban']/(sr_df['Rural'] +(sr_df['Urban'])) * 100 ,1)\n",
    "\n",
    "\n",
    "#Display Table\n",
    "sr_df\n",
    "\n",
    "#Saving Table\n",
    "#sr_df.to_excel(\"Table 2 - Distribution by province.xlsx\", index=False)"
   ]
  },
  {
   "cell_type": "code",
   "execution_count": 17,
   "metadata": {},
   "outputs": [
    {
     "data": {
      "image/png": "[encoded data removed]",
      "text/plain": [
       "<Figure size 1000x800 with 1 Axes>"
      ]
     },
     "metadata": {},
     "output_type": "display_data"
    }
   ],
   "source": [
    "# Define the color scheme\n",
    "lc = ['#04d8b2', '#029386']\n",
    "gc = ['#0077c8', '#ff81c0']\n",
    "\n",
    "# Set the figure size\n",
    "fig, ax = plt.subplots(figsize=(10, 8))\n",
    "\n",
    "# Define the width of each bar\n",
    "bar_width = 0.3\n",
    "\n",
    "# Create the stacked bar plot for gender\n",
    "ax.bar(sr_df.index, sr_df['Female(%)'], color=gc[1], width=bar_width, label='Female')\n",
    "ax.bar(sr_df.index, sr_df['Male(%)'], bottom=sr_df['Female(%)'], color=gc[0], width=bar_width, label='Male')\n",
    "\n",
    "# Create the stacked bar plot for location\n",
    "ax.bar(sr_df.index + bar_width, sr_df['Urban(%)'], color=lc[1], width=bar_width, label='Urban')\n",
    "ax.bar(sr_df.index + bar_width, sr_df['Rural(%)'], bottom=sr_df['Urban(%)'], color=lc[0], width=bar_width, label='Rural')\n",
    "\n",
    "# Set the title and axis labels\n",
    "ax.set_title('Gender and Location Distribution by Province')\n",
    "ax.set_xlabel('Province')\n",
    "ax.set_ylabel('Percentage')\n",
    "\n",
    "ax.set_xticks(range(len(sr_df)))\n",
    "ax.set_xticklabels(sr_df['Province'], ha='center')\n",
    "\n",
    "# Set the legend\n",
    "ax.legend(bbox_to_anchor=(1.05, 1), loc='upper left')\n",
    "\n",
    "# Add the values to the center of each region\n",
    "for i, (index, row) in enumerate(sr_df.iterrows()):\n",
    "    ax.text(i - bar_width/2, row['Female(%)']/2, f\"  {row['Female(%)']}%\", va='center', color='white', fontsize=7)\n",
    "    ax.text(i - bar_width/2, row['Female(%)'] + row['Male(%)']/2, f\"  {row['Male(%)']}%\", va='center', color='white', fontsize=7)\n",
    "    ax.text(i + bar_width/2, row['Urban(%)']/2, f\"  {row['Urban(%)']}%\", va='center', color='white', fontsize=7)\n",
    "    ax.text(i + bar_width/2, row['Urban(%)'] + row['Rural(%)']/2, f\"  {row['Rural(%)']}%\", va='center', color='white', fontsize=7)\n",
    "\n",
    "# Show the plot\n",
    "plt.show()\n",
    "\n",
    "\n",
    "fig.savefig('Fig 2 - gender_location_distribution.png', dpi=600, bbox_inches='tight')"
   ]
  },
  {
   "attachments": {},
   "cell_type": "markdown",
   "metadata": {},
   "source": [
    "# Table 3: Ever Attended School"
   ]
  },
  {
   "cell_type": "code",
   "execution_count": 22,
   "metadata": {},
   "outputs": [
    {
     "name": "stderr",
     "output_type": "stream",
     "text": [
      "C:\\Users\\Humza\\AppData\\Local\\Temp\\ipykernel_19024\\1875945501.py:2: SettingWithCopyWarning: \n",
      "A value is trying to be set on a copy of a slice from a DataFrame.\n",
      "Try using .loc[row_indexer,col_indexer] = value instead\n",
      "\n",
      "See the caveats in the documentation: https://pandas.pydata.org/pandas-docs/stable/user_guide/indexing.html#returning-a-view-versus-a-copy\n",
      "  youth_df['Ever_Attended_School'] = youth_df['Education'].apply(lambda x: 0 if x==1 else 1)\n"
     ]
    }
   ],
   "source": [
    "#Ever attended School\n",
    "youth_df['Ever_Attended_School'] = youth_df['Education'].apply(lambda x: 0 if x==1 else 1)\n",
    "\n",
    "# filter the data based on the conditions and count the values\n",
    "yes_counts = youth_df.loc[(youth_df['Ever_Attended_School'] == 1) & (youth_df['Inactive'] == 1), 'Province'].value_counts()\n",
    "no_counts = youth_df.loc[(youth_df['Ever_Attended_School'] == 0) & (youth_df['Inactive'] == 1), 'Province'].value_counts()\n",
    "\n",
    "\n",
    "# create a new dataframe with the counts\n",
    "df_perc = pd.DataFrame({'Yes': yes_counts, 'No': no_counts})\n",
    "\n",
    "# replace the province codes with names\n",
    "df_perc.rename(index=province_names, inplace=True)\n",
    "\n",
    "# add a new row to show the total counts\n",
    "df_perc.loc['Total'] = df_perc.sum()\n",
    "\n",
    "# calculate the percentages\n",
    "df_perc = df_perc.apply(lambda x: x / x.sum()*100, axis=1)\n",
    "df_perc = df_perc.round(2)\n",
    "\n",
    "# display the resulting dataframe\n",
    "df_perc\n",
    "\n",
    "\n",
    "#Saving Table\n",
    "\n",
    "#df_perc.to_excel(\"Table 3 - Ever Attended School.xlsx\")"
   ]
  },
  {
   "attachments": {},
   "cell_type": "markdown",
   "metadata": {},
   "source": [
    "# Table 4: Qualification"
   ]
  },
  {
   "cell_type": "code",
   "execution_count": 21,
   "metadata": {},
   "outputs": [
    {
     "name": "stderr",
     "output_type": "stream",
     "text": [
      "C:\\Users\\Humza\\AppData\\Local\\Temp\\ipykernel_19024\\3607311454.py:2: SettingWithCopyWarning: \n",
      "A value is trying to be set on a copy of a slice from a DataFrame.\n",
      "Try using .loc[row_indexer,col_indexer] = value instead\n",
      "\n",
      "See the caveats in the documentation: https://pandas.pydata.org/pandas-docs/stable/user_guide/indexing.html#returning-a-view-versus-a-copy\n",
      "  youth_df['Qualification'] = pd.cut(youth_df['Education'], bins=[0,1,5,7,15],\n"
     ]
    }
   ],
   "source": [
    "# create a new column 'Qualification' based on 'Edu' column\n",
    "youth_df['Qualification'] = pd.cut(youth_df['Education'], bins=[0,1,5,7,15], \n",
    "                              labels=['No Qualification', 'Primary Level','Secondary Level', 'University'])\n",
    "\n",
    "# filter the data based on the conditions and count the values\n",
    "counts = youth_df.loc[(youth_df['Inactive'] == 1), ['Province', 'Qualification']]\n",
    "table = pd.crosstab(counts['Qualification'], counts['Province'])\n",
    "\n",
    "# replace the province codes with names\n",
    "table.rename(columns=province_names, inplace=True)\n",
    "\n",
    "# calculate the percentages\n",
    "table = table.apply(lambda x: x / x.sum()*100, axis=0)\n",
    "table = table.round(2)\n",
    "\n",
    "# display the resulting dataframe\n",
    "table\n",
    "\n",
    "#Saving Table\n",
    "table.to_excel(\"Table 4 - Qualification.xlsx\")"
   ]
  },
  {
   "cell_type": "code",
   "execution_count": null,
   "metadata": {},
   "outputs": [],
   "source": []
  }
 ],
 "metadata": {
  "kernelspec": {
   "display_name": "latestpython",
   "language": "python",
   "name": "python3"
  },
  "language_info": {
   "codemirror_mode": {
    "name": "ipython",
    "version": 3
   },
   "file_extension": ".py",
   "mimetype": "text/x-python",
   "name": "python",
   "nbconvert_exporter": "python",
   "pygments_lexer": "ipython3",
   "version": "3.10.9"
  },
  "orig_nbformat": 4
 },
 "nbformat": 4,
 "nbformat_minor": 2
}
